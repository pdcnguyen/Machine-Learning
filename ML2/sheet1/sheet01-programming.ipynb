{
 "cells": [
  {
   "cell_type": "markdown",
   "metadata": {},
   "source": [
    "## Implementing Locally Linear Embedding\n",
    "\n",
    "In this programming homework we will implement locally linear embedding (LLE) and experiment with it on the swiss roll dataset. In particular, the effects of neighbourhood size and noise on the quality of the embedding will be analyzed."
   ]
  },
  {
   "cell_type": "code",
   "execution_count": null,
   "metadata": {},
   "outputs": [],
   "source": [
    "import numpy as np\n",
    "import matplotlib\n",
    "%matplotlib inline\n",
    "from matplotlib import pyplot as plt\n",
    "from mpl_toolkits.mplot3d.axes3d import Axes3D\n",
    "import sklearn,sklearn.datasets"
   ]
  },
  {
   "cell_type": "markdown",
   "metadata": {},
   "source": [
    "The following code plots the swiss roll dataset (a commonly used dataset to test LLE) with `N=1000` data points and a noise parameter of `0.25`."
   ]
  },
  {
   "cell_type": "code",
   "execution_count": null,
   "metadata": {},
   "outputs": [],
   "source": [
    "X,T = sklearn.datasets.make_swiss_roll(n_samples=1000, noise=0.25)\n",
    "plt.figure(figsize=(5,5))\n",
    "ax = plt.gca(projection='3d')\n",
    "ax.view_init(elev=10., azim=105)\n",
    "ax.scatter(X[:,0],X[:,1],X[:,2],c=T)\n",
    "plt.show()"
   ]
  },
  {
   "cell_type": "markdown",
   "metadata": {},
   "source": [
    "Although the dataset is in three dimensions, the points follow a two-dimensional low-dimensional structure. The goal of embedding algorithms is to extract this underlying structure, in this case, unrolling the swiss roll into a two-dimensional Euclidean space.\n",
    "\n",
    "In the following, we consider a simple implementation of LLE. You are required to complete the code by writing the portion where the optimal reconstruction weights are extracted. *(Hint: During computation, you need to solve an equation of the type Cw=**1**, where **1** is a column vector (1,1,...,1). In case k>d i.e. the size of the neighbourhood is larger than the number of dimensions of the input space, it is necessary to regularize the matrix C. You can do this by adding positive terms on the diagonal. A good starting point is 0.05.)*"
   ]
  },
  {
   "cell_type": "code",
   "execution_count": null,
   "metadata": {},
   "outputs": [],
   "source": [
    "def LLE(X,k):\n",
    "    N = len(X)\n",
    "    W = np.zeros([N,N])\n",
    "    \n",
    "    for i in range(N):\n",
    "        # --------------------------------------\n",
    "        # TODO: Replace by your code\n",
    "        # --------------------------------------\n",
    "        import solution\n",
    "        w,ind = solution.lle(X,i,k)\n",
    "        # --------------------------------------\n",
    "        W[i,ind] = w\n",
    "    \n",
    "    M = np.identity(N) - W - W.T + np.dot(W.T,W)\n",
    "    E = np.linalg.svd(M)[0][:,-3:-1]\n",
    "    \n",
    "    return E"
   ]
  },
  {
   "cell_type": "markdown",
   "metadata": {},
   "source": [
    "You can now test your implementation on the swiss roll dataset and vary the noise in the data and the parameter `k` of the LLE algorithm. Results are shown below:"
   ]
  },
  {
   "cell_type": "code",
   "execution_count": null,
   "metadata": {},
   "outputs": [],
   "source": [
    "f = plt.figure(figsize=(12,3))\n",
    "for t,(k,noise) in enumerate([(2,0.1),(10,0.1),(25,0.1),(10,1)]):\n",
    "    X,T = sklearn.datasets.make_swiss_roll(n_samples=1000, noise=noise)\n",
    "    embedding = LLE(X,k=k)\n",
    "    ax = f.add_subplot(1,4,t+1)\n",
    "    ax.set_title('k=%d, noise=%.1f'%(k,noise))\n",
    "    ax.set_xticks([])\n",
    "    ax.set_yticks([])\n",
    "    ax.scatter(embedding[:,0],embedding[:,1],c=T)"
   ]
  },
  {
   "cell_type": "markdown",
   "metadata": {},
   "source": [
    "It can be observed that the parameter `k` must be carefully tuned to have sufficiently many neighbors for stability but also not too many. We can further observe that LLE works well as long as the noise in the data remains low enough."
   ]
  }
 ],
 "metadata": {
  "kernelspec": {
   "display_name": "Python 3",
   "language": "python",
   "name": "python3"
  },
  "language_info": {
   "codemirror_mode": {
    "name": "ipython",
    "version": 3
   },
   "file_extension": ".py",
   "mimetype": "text/x-python",
   "name": "python",
   "nbconvert_exporter": "python",
   "pygments_lexer": "ipython3",
   "version": "3.8.10"
  }
 },
 "nbformat": 4,
 "nbformat_minor": 1
}
